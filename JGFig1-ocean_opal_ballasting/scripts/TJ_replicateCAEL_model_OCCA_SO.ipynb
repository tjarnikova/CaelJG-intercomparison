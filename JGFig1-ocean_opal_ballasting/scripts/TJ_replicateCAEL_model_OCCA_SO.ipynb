{
 "cells": [
  {
   "cell_type": "markdown",
   "metadata": {},
   "source": [
    "### *Import Packages and Modules*\n",
    "***"
   ]
  },
  {
   "cell_type": "code",
   "execution_count": 214,
   "metadata": {},
   "outputs": [],
   "source": [
    "import xarray as xr\n",
    "import numpy as np\n",
    "import netCDF4 as nc\n",
    "import glob\n",
    "import re\n",
    "import matplotlib.pyplot as plt\n",
    "import matplotlib\n",
    "import warnings\n",
    "from matplotlib import *\n",
    "from netCDF4 import Dataset\n",
    "from scipy import stats\n",
    "from matplotlib.colors import LinearSegmentedColormap\n",
    "from pylr2 import regress2\n",
    "import itertools\n",
    "import statsmodels.api as sm\n",
    "import time\n",
    "from operator import itemgetter\n",
    "import csv\n",
    "import statistics\n",
    "from major_axis_regression import regress2\n",
    "from parula import parula\n",
    "# parula is a .py file that should be found in script that adds parula, the same colour scale as Cael uses to the data. "
   ]
  },
  {
   "cell_type": "code",
   "execution_count": 215,
   "metadata": {},
   "outputs": [],
   "source": [
    "parula_map = parula()"
   ]
  },
  {
   "cell_type": "code",
   "execution_count": 240,
   "metadata": {},
   "outputs": [],
   "source": [
    "def JG_BBCael(data,bbeta,data_no,bbeta_pair_no):\n",
    "    import statsmodels.api as sm\n",
    "    import numpy as np \n",
    "\n",
    "    # find random coordinate points for SO \n",
    "    #change size to be 721 to match cael's filter TJ \n",
    "    index_number = np.random.randint(0, high=data_no, size=data_no)        \n",
    "    \n",
    "    #print('average in mask:', np.average(new_mask))\n",
    "    # this average should be 1 == only areas with values are selected\n",
    "    #print('(should be one or else something went wrong)')\n",
    "\n",
    "    # use randomly selected coordinate points to select 10000 random values of Foc, Fic and Fsi \n",
    "    random_depth = data[index_number,0]\n",
    "    random_Foc = data[index_number, 3]\n",
    "    random_Fic = data[index_number, 4]\n",
    "    random_Fsi = data[index_number, 5]\n",
    "    \n",
    "    #y = np.power((random_depth[:, np.newaxis]/1000), bbeta[:, 0])\n",
    "    #y = np.log((random_Foc[:, np.newaxis] * y))\n",
    "    #x = np.log((random_Fic[:, np.newaxis]) + (bbeta[:, 1] * random_Fsi[:, np.newaxis]))\n",
    "\n",
    "    y = np.log(random_Foc[:, np.newaxis]) + (bbeta[:, 0] * np.subtract(np.log(random_depth[:, np.newaxis]),np.log(1000)))\n",
    "    x = np.log((random_Fic[:, np.newaxis]) + (bbeta[:, 1] * random_Fsi[:, np.newaxis]))\n",
    "\n",
    "    \n",
    "    r_squared = np.ones((bbeta_pair_no))*np.nan\n",
    "    slope = np.ones((bbeta_pair_no))*np.nan\n",
    "    intercept = np.ones((bbeta_pair_no))*np.nan\n",
    "\n",
    "    for i in np.arange(0,bbeta_pair_no,1):\n",
    "        r_squared[i], slope[i], intercept[i] = regress2(x[:,i], y[:,i], _method_type_2=\"major axis\")\n",
    "\n",
    "    r_maximum = np.nanmax(r_squared)\n",
    "\n",
    "    where_max = np.where(r_squared==r_maximum)\n",
    "\n",
    "    b_maxr = np.nanmean(bbeta[where_max, 0])\n",
    "    beta_maxr = np.nanmean(bbeta[where_max, 1])\n",
    "    slope_max = np.nanmean(slope[where_max])\n",
    "    intercept_max = np.nanmean(intercept[where_max])\n",
    "\n",
    "    return r_maximum, b_maxr, beta_maxr, slope_max, intercept_max\n"
   ]
  },
  {
   "cell_type": "markdown",
   "metadata": {},
   "source": [
    "***\n",
    "### *Import Data*\n",
    "\n",
    "TJ- I'm going to use JG's .npy grids. I am not 100% sure how these data were masked/derived but am going with the following:\n",
    "\n",
    "    # use randomly selected coordinate points to select 10000 random values of Foc, Fic and Fsi \n",
    "    random_Foc = data[4, index_number]\n",
    "    random_Fic = data[5, index_number]\n",
    "    random_Fsi = data[6, index_number]\n",
    "    random_depth = data[7, index_number]\n",
    "    \n",
    "I'm now putting them into the format required by TJ_replicateCAEL.ipynb (Joe's code with small adjustments\n",
    "    "
   ]
  },
  {
   "cell_type": "code",
   "execution_count": 216,
   "metadata": {},
   "outputs": [],
   "source": [
    "region = 'TP' #NA, NP, SO, TA, TP\n",
    "OCCA = np.load(f'../data/OCCA_masked2obs/{region}_BB_OCCA.npy') \n",
    "\n",
    "for i in range(0,len(regions"
   ]
  },
  {
   "cell_type": "code",
   "execution_count": null,
   "metadata": {},
   "outputs": [],
   "source": []
  },
  {
   "cell_type": "code",
   "execution_count": 217,
   "metadata": {},
   "outputs": [
    {
     "name": "stdout",
     "output_type": "stream",
     "text": [
      "the number of observations in JG dataset for region TP is 1289\n"
     ]
    }
   ],
   "source": [
    "\n",
    "\n",
    "\n",
    "data = OCCA\n",
    "#get column titles from JGFig1-ocean_opal_ballasting/scripts/Fig1_masked_model/Masked%20Model%20SO%20OCCA.ipynb\n",
    "Foc = data[4, :]\n",
    "Fic = data[5, :]\n",
    "Fsi = data[6, :]\n",
    "depth = data[7, :]\n",
    "\n",
    "#filter - no negatives, no nans. \n",
    "\n",
    "filt = (Foc>0)&(Fic>0)&(Fsi>0)&(depth>0)&(~np.isnan(Foc))&(~np.isnan(Fic))&(~np.isnan(Fsi))&(~np.isnan(depth))\n",
    "bb_depths_so = depth[filt]\n",
    "bb_Foc_so = Foc[filt]\n",
    "bb_Fic_so = Fic[filt]\n",
    "bb_Fsi_so = Fsi[filt]\n",
    "\n",
    "data_no = (np.shape(bb_Fsi_so)[0]) #number of observations\n",
    "print(f'the number of observations in JG dataset for region {region} is {data_no}')\n",
    "#print(bb_Fsi_so)\n",
    "#put the filtered stuff \n",
    "forjoesouth_filt = np.zeros([data_no,6]) #forjoesouth_filt is a legacy name \n",
    "forjoesouth_filt[:,0] = bb_depths_so\n",
    "forjoesouth_filt[:,3] = bb_Foc_so\n",
    "forjoesouth_filt[:,4] = bb_Fic_so\n",
    "forjoesouth_filt[:,5] = bb_Fsi_so"
   ]
  },
  {
   "cell_type": "markdown",
   "metadata": {},
   "source": [
    "## TJ: on line 14 of TJ_opal_paper_figure_1 cael removes 0s and negative numbers. let's do that for consistency"
   ]
  },
  {
   "cell_type": "code",
   "execution_count": null,
   "metadata": {},
   "outputs": [],
   "source": []
  },
  {
   "cell_type": "code",
   "execution_count": 218,
   "metadata": {},
   "outputs": [
    {
     "data": {
      "text/plain": [
       "(1289, 6)"
      ]
     },
     "execution_count": 218,
     "metadata": {},
     "output_type": "execute_result"
    }
   ],
   "source": [
    "np.shape(forjoesouth_filt)"
   ]
  },
  {
   "cell_type": "markdown",
   "metadata": {},
   "source": [
    "------\n",
    "### Define Function"
   ]
  },
  {
   "cell_type": "code",
   "execution_count": 219,
   "metadata": {},
   "outputs": [],
   "source": []
  },
  {
   "cell_type": "markdown",
   "metadata": {},
   "source": [
    "------\n",
    "### Create the b and beta range"
   ]
  },
  {
   "cell_type": "code",
   "execution_count": 220,
   "metadata": {},
   "outputs": [],
   "source": [
    "# then we create b and beta range to search for in each sample taken. \n",
    "# these are estimated from a small b and beta sample. \n",
    "# later we ensure that the data isn't skewed to one side of the distribution searched within b and beta. "
   ]
  },
  {
   "cell_type": "code",
   "execution_count": 221,
   "metadata": {},
   "outputs": [
    {
     "name": "stdout",
     "output_type": "stream",
     "text": [
      "750\n"
     ]
    }
   ],
   "source": [
    "# define b and beta\n",
    "b = numpy.arange(0.4, 1, 0.02)\n",
    "beta = numpy.arange(0.01,  0.5, 0.02)\n",
    "\n",
    "# define number of searches within b and beta (for histograms later)\n",
    "b_bins = (1-0.4)/0.05\n",
    "beta_bins = 0.5/0.005\n",
    "\n",
    "# this calculates the number of b/beta unique combinations\n",
    "bbeta = np.array(list(itertools.product(b, beta)))\n",
    "bbeta_pair_no = int((bbeta[:,1].shape)[0])\n",
    "print(bbeta_pair_no)"
   ]
  },
  {
   "cell_type": "markdown",
   "metadata": {},
   "source": [
    "***\n",
    "### *Run Regression*\n"
   ]
  },
  {
   "cell_type": "code",
   "execution_count": 222,
   "metadata": {},
   "outputs": [],
   "source": [
    "n = data_no # change to smaller dataset # this is the number of samples taken each time (ideally the same as the size of the dataset)\n",
    "resamples = 1000 # this is the number of bootstrap resamples"
   ]
  },
  {
   "cell_type": "code",
   "execution_count": 223,
   "metadata": {},
   "outputs": [],
   "source": [
    "#here we initiate the variables\n",
    "r_maximum = np.ones((resamples))*np.nan\n",
    "b_maxr = np.ones((resamples))*np.nan\n",
    "beta_maxr = np.ones((resamples))*np.nan\n",
    "slope_max = np.ones((resamples))*np.nan\n",
    "intercept_max = np.ones((resamples))*np.nan\n",
    "random_Fic = np.ones((resamples,n))*np.nan\n",
    "random_Foc = np.ones((resamples,n))*np.nan\n",
    "random_Fsi = np.ones((resamples,n))*np.nan\n",
    "random_depth = np.ones((resamples, n))*np.nan"
   ]
  },
  {
   "cell_type": "code",
   "execution_count": 224,
   "metadata": {},
   "outputs": [
    {
     "name": "stdout",
     "output_type": "stream",
     "text": [
      "1 :    0.20246052742004395\n",
      "100 :     20.38734531402588\n",
      "500 :     82.93285322189331\n",
      "999 :     103.07919406890869\n"
     ]
    }
   ],
   "source": [
    "# here we run through the function which finds the best fit of b and beta of the range given\n",
    "# we do this as many times as given in the resamples (usually at least as many data points)\n",
    "\n",
    "#tj run it on the filtered data\n",
    "\n",
    "for i in np.arange(0,resamples,1):\n",
    "    w = time.time()\n",
    "    r_maximum[i], b_maxr[i], beta_maxr[i], slope_max[i], intercept_max[i] = \\\n",
    "    JG_BBCael(forjoesouth_filt,bbeta,data_no,bbeta_pair_no)\n",
    "    if i == 1:\n",
    "        w1 = time.time()\n",
    "        print(i, ':   ', w1-w)\n",
    "    if i == 100:\n",
    "        w2=time.time()\n",
    "        print(i, ':    ', w2-w1)\n",
    "    if i == 500:\n",
    "        w3=time.time()\n",
    "        print(i, ':    ', w3-w2)\n",
    "    if i == 999:\n",
    "        w4=time.time()\n",
    "        print(i, ':    ', w4-w3)"
   ]
  },
  {
   "cell_type": "markdown",
   "metadata": {},
   "source": [
    "-------\n",
    "# Plot Histograms\n",
    "here we're looking to make sure that the searches for b and beta don't fall at the edges of the search limits"
   ]
  },
  {
   "cell_type": "code",
   "execution_count": 225,
   "metadata": {},
   "outputs": [
    {
     "data": {
      "text/plain": [
       "(array([  0.,   0.,   0.,   0.,   0.,   1., 999.,   0.,   0.,   0.,   0.]),\n",
       " array([0.        , 0.09090909, 0.18181818, 0.27272727, 0.36363636,\n",
       "        0.45454545, 0.54545455, 0.63636364, 0.72727273, 0.81818182,\n",
       "        0.90909091, 1.        ]),\n",
       " <BarContainer object of 11 artists>)"
      ]
     },
     "execution_count": 225,
     "metadata": {},
     "output_type": "execute_result"
    },
    {
     "data": {
      "image/png": "[encoded data removed]",
      "text/plain": [
       "<Figure size 432x288 with 1 Axes>"
      ]
     },
     "metadata": {
      "needs_background": "light"
     },
     "output_type": "display_data"
    }
   ],
   "source": [
    "plt.hist(b_maxr, range=(0.00, 1), bins=int(b_bins))"
   ]
  },
  {
   "cell_type": "code",
   "execution_count": 226,
   "metadata": {},
   "outputs": [
    {
     "data": {
      "text/plain": [
       "(array([  0.,   0.,   0.,   0.,   0.,   0.,   0.,   0.,   0.,   0.,   0.,\n",
       "          0.,   0.,   0.,   1.,  17.,  33.,  49., 110., 122., 160., 134.,\n",
       "        113., 261.,   0.,   0.,   0.,   0.,   0.,   0.,   0.,   0.,   0.,\n",
       "          0.,   0.,   0.,   0.,   0.,   0.,   0.,   0.,   0.,   0.,   0.,\n",
       "          0.,   0.,   0.,   0.,   0.,   0.,   0.,   0.,   0.,   0.,   0.,\n",
       "          0.,   0.,   0.,   0.,   0.,   0.,   0.,   0.,   0.,   0.,   0.,\n",
       "          0.,   0.,   0.,   0.,   0.,   0.,   0.,   0.,   0.,   0.,   0.,\n",
       "          0.,   0.,   0.,   0.,   0.,   0.,   0.,   0.,   0.,   0.,   0.,\n",
       "          0.,   0.,   0.,   0.,   0.,   0.,   0.,   0.,   0.,   0.,   0.,\n",
       "          0.]),\n",
       " array([0.02  , 0.0398, 0.0596, 0.0794, 0.0992, 0.119 , 0.1388, 0.1586,\n",
       "        0.1784, 0.1982, 0.218 , 0.2378, 0.2576, 0.2774, 0.2972, 0.317 ,\n",
       "        0.3368, 0.3566, 0.3764, 0.3962, 0.416 , 0.4358, 0.4556, 0.4754,\n",
       "        0.4952, 0.515 , 0.5348, 0.5546, 0.5744, 0.5942, 0.614 , 0.6338,\n",
       "        0.6536, 0.6734, 0.6932, 0.713 , 0.7328, 0.7526, 0.7724, 0.7922,\n",
       "        0.812 , 0.8318, 0.8516, 0.8714, 0.8912, 0.911 , 0.9308, 0.9506,\n",
       "        0.9704, 0.9902, 1.01  , 1.0298, 1.0496, 1.0694, 1.0892, 1.109 ,\n",
       "        1.1288, 1.1486, 1.1684, 1.1882, 1.208 , 1.2278, 1.2476, 1.2674,\n",
       "        1.2872, 1.307 , 1.3268, 1.3466, 1.3664, 1.3862, 1.406 , 1.4258,\n",
       "        1.4456, 1.4654, 1.4852, 1.505 , 1.5248, 1.5446, 1.5644, 1.5842,\n",
       "        1.604 , 1.6238, 1.6436, 1.6634, 1.6832, 1.703 , 1.7228, 1.7426,\n",
       "        1.7624, 1.7822, 1.802 , 1.8218, 1.8416, 1.8614, 1.8812, 1.901 ,\n",
       "        1.9208, 1.9406, 1.9604, 1.9802, 2.    ]),\n",
       " <BarContainer object of 100 artists>)"
      ]
     },
     "execution_count": 226,
     "metadata": {},
     "output_type": "execute_result"
    },
    {
     "data": {
      "image/png": "[encoded data removed]",
      "text/plain": [
       "<Figure size 432x288 with 1 Axes>"
      ]
     },
     "metadata": {
      "needs_background": "light"
     },
     "output_type": "display_data"
    }
   ],
   "source": [
    "plt.hist(beta_maxr, range=(0.02, 2), bins=int(beta_bins))"
   ]
  },
  {
   "cell_type": "markdown",
   "metadata": {},
   "source": [
    "-----\n",
    "# Create median values for plotting graphs"
   ]
  },
  {
   "cell_type": "code",
   "execution_count": 227,
   "metadata": {},
   "outputs": [],
   "source": [
    "# find median values of the best fit regressions\n",
    "\n",
    "r2_median = np.nanmedian(r_maximum**2)\n",
    "b_median = np.nanmedian(b_maxr)\n",
    "beta_median = np.nanmedian(beta_maxr)\n",
    "intercept_median = np.nanmedian(intercept_max)\n",
    "slope_median = np.nanmedian(slope_max)\n",
    "\n"
   ]
  },
  {
   "cell_type": "markdown",
   "metadata": {},
   "source": [
    "## tj you are slightly inconsistent here. \n",
    "we want r2, not r. we also don't want to use the median intercept, \n",
    "#but a median of a transformation of the intercept - kappa. which you do later. "
   ]
  },
  {
   "cell_type": "markdown",
   "metadata": {},
   "source": [
    "# Calculate alpha(si) and alpha(ic) values from the median beta, intercept and slope values\n",
    "where kappa = e^intercept and gamma = slope of the line\n",
    "\n",
    "y = Foc(z/1000)\n",
    "\n",
    "x = Fic * beta(Fsi))^gamma\n",
    "\n",
    "and: beta is ~ to a_si/a_ic\n",
    "\n",
    "### therefore:\n",
    "\n",
    "if: y = k * (beta * x^gamma)\n",
    "\n",
    "beta = alpha_si/alpha_ic\n",
    "\n",
    "alpha_ic = kappa^(1/gamma)\n",
    "\n",
    "alpha_si = beta * kappa^(1/gamma)\n",
    "\n",
    "k(kappa) = e^(intercept) and gamma = slope\n",
    "\n",
    "the equation becomes Foc = (alpha_ic Fic + alpha_si Fsi)^gamma (z/1000)^b. so beta = alpha_si/alpha_ic.\n"
   ]
  },
  {
   "cell_type": "code",
   "execution_count": 228,
   "metadata": {},
   "outputs": [],
   "source": [
    "kappa = np.exp(intercept_max)\n",
    "kappa_median = np.nanmedian(np.exp(intercept_max))"
   ]
  },
  {
   "cell_type": "code",
   "execution_count": 229,
   "metadata": {},
   "outputs": [],
   "source": [
    "a_ic_1 = kappa**(1/slope_median)\n",
    "a_si_1 = beta_median*kappa**(1/slope_median)"
   ]
  },
  {
   "cell_type": "code",
   "execution_count": 230,
   "metadata": {},
   "outputs": [],
   "source": [
    "a_ic = kappa_median**(1/slope_median)\n",
    "a_si = beta_median*kappa_median**(1/slope_median)"
   ]
  },
  {
   "cell_type": "code",
   "execution_count": 231,
   "metadata": {},
   "outputs": [
    {
     "name": "stdout",
     "output_type": "stream",
     "text": [
      "35.92508797798434\n",
      "16.16628959009295\n"
     ]
    }
   ],
   "source": [
    "print(a_ic)\n",
    "print(a_si)"
   ]
  },
  {
   "cell_type": "code",
   "execution_count": 232,
   "metadata": {},
   "outputs": [
    {
     "name": "stdout",
     "output_type": "stream",
     "text": [
      "r2:         0.6576649606947893\n",
      "b:          0.5800000000000002\n",
      "beta:          0.44999999999999996\n",
      "median intercept aka A:  1.6006305373871448\n",
      "gamma aka slope      0.44692424832949007\n",
      "kapppa aka median(exp(intercept)) 4.95615648937604\n"
     ]
    }
   ],
   "source": [
    "print('r2:        ', r2_median)\n",
    "print('b:         ', b_median)\n",
    "print('beta:         ', beta_median)\n",
    "# print('a_ic:      ', a_ic)\n",
    "# print('a_si:      ', a_si)\n",
    "print('median intercept aka A: ', intercept_median)\n",
    "print('gamma aka slope     ', slope_median)\n",
    "print(f'kapppa aka median(exp(intercept)) {kappa_median}') "
   ]
  },
  {
   "cell_type": "markdown",
   "metadata": {},
   "source": [
    "-----\n",
    "### Create values for plotting graphs"
   ]
  },
  {
   "cell_type": "code",
   "execution_count": 233,
   "metadata": {},
   "outputs": [
    {
     "data": {
      "text/plain": [
       "(768, 6)"
      ]
     },
     "execution_count": 233,
     "metadata": {},
     "output_type": "execute_result"
    }
   ],
   "source": [
    "forjoesouth.shape"
   ]
  },
  {
   "cell_type": "code",
   "execution_count": 237,
   "metadata": {},
   "outputs": [
    {
     "name": "stdout",
     "output_type": "stream",
     "text": [
      "(1289,)\n",
      "(1289,)\n"
     ]
    }
   ],
   "source": [
    "# forjoesouth_filt[:,3] = bb_Foc_so\n",
    "# forjoesouth_filt[:,4] = bb_Fic_so\n",
    "# forjoesouth_filt[:,5] = bb_Fsi_so\n",
    "log_y = np.log(forjoesouth_filt[:,3]) + (b_median * np.subtract(np.log(forjoesouth_filt[:,0]),np.log(1000)))\n",
    "#log_x = np.log(kappa_median**slope_median*((forjoesouth_filt[:,4]) + (beta_median * forjoesouth_filt[:,5])))\n",
    "log_x = np.log(forjoesouth_filt[:,4] + beta_median * forjoesouth_filt[:,5])\n",
    "\n",
    "y = np.exp(log_y)\n",
    "x = np.exp(log_x)\n",
    "\n",
    "scale = forjoesouth_filt[:,4] / forjoesouth_filt[:,5]\n",
    "print(np.shape(log_y))\n",
    "print(np.shape(scale))"
   ]
  },
  {
   "cell_type": "code",
   "execution_count": 238,
   "metadata": {},
   "outputs": [],
   "source": [
    "x_line = [0.00001, np.max(x)+10000]\n",
    "y_line = kappa_median*x_line**slope_median"
   ]
  },
  {
   "cell_type": "markdown",
   "metadata": {},
   "source": [
    "## TJ use actual calculated numbers in plot annotation "
   ]
  },
  {
   "cell_type": "code",
   "execution_count": 239,
   "metadata": {},
   "outputs": [
    {
     "data": {
      "image/png": "[encoded data removed]",
      "text/plain": [
       "<Figure size 432x288 with 2 Axes>"
      ]
     },
     "metadata": {
      "needs_background": "light"
     },
     "output_type": "display_data"
    },
    {
     "data": {
      "text/plain": [
       "<Figure size 432x288 with 0 Axes>"
      ]
     },
     "metadata": {},
     "output_type": "display_data"
    }
   ],
   "source": [
    "logset = 0.01\n",
    "ax = plt.gca()\n",
    "plt.plot(x_line, y_line, color='black', ls='-.', lw=2)\n",
    "g = ax.scatter(x, y, c=scale, cmap=parula_map, norm=matplotlib.colors.LogNorm(vmin=0.01, vmax=100), s=20)\n",
    "ax.set_yscale('log')\n",
    "ax.set_xscale('log')\n",
    "#plt.ylim(1e-2, 316.227766017)\n",
    "#plt.xlim(0.00316227766, 600)\n",
    "#axis([.005 500 .005 500])\n",
    "plt.ylim(np.min(y)-0.1*np.min(y), np.max(y)+0.3*np.mean(y))\n",
    "plt.xlim(np.min(x)-0.1*np.min(x), np.max(x)+0.3*np.mean(x))\n",
    "cbar = plt.colorbar(g)\n",
    "\n",
    "#use f strings \n",
    "#plt.title(r'$Southern \\ Ocean \\ (r^{2} = 0.89)$', size=16)\n",
    "plt.title(f'OCCA model, region {region}, r$^2$ = {round(r2_median, 3)}')\n",
    "\n",
    "plt.ylabel(f'$F_oc * z ** ( {round(b_median, 3)}) \\ (mg \\ m^{-2} \\ d^{-1})$', size=12) \n",
    "\n",
    "plt.xlabel(f'{round(kappa_median, 3)} x F_ic + ({round(beta_median, 3)}  F_si)', size=12)\n",
    "\n",
    "cbar.set_label(r'${F_{ic}} \\ / \\ {F_{si}}$', size=14)\n",
    "\n",
    "plt.show()\n",
    "\n",
    "plt.savefig(f'OCCA_{region}_scaling.jpg')"
   ]
  },
  {
   "cell_type": "code",
   "execution_count": null,
   "metadata": {},
   "outputs": [],
   "source": []
  },
  {
   "cell_type": "code",
   "execution_count": null,
   "metadata": {},
   "outputs": [],
   "source": []
  }
 ],
 "metadata": {
  "kernelspec": {
   "display_name": "Python 3 (ipykernel)",
   "language": "python",
   "name": "python3"
  },
  "language_info": {
   "codemirror_mode": {
    "name": "ipython",
    "version": 3
   },
   "file_extension": ".py",
   "mimetype": "text/x-python",
   "name": "python",
   "nbconvert_exporter": "python",
   "pygments_lexer": "ipython3",
   "version": "3.7.11"
  }
 },
 "nbformat": 4,
 "nbformat_minor": 4
}
