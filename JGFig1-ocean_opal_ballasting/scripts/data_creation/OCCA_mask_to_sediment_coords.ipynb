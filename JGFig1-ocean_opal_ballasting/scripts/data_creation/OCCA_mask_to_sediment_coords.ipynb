{
 "cells": [
  {
   "cell_type": "markdown",
   "metadata": {},
   "source": [
    "# Taking Cael's location values"
   ]
  },
  {
   "cell_type": "markdown",
   "metadata": {},
   "source": [
    "### *Import Packages and Modules*\n",
    "***"
   ]
  },
  {
   "cell_type": "code",
   "execution_count": 2,
   "metadata": {},
   "outputs": [
    {
     "name": "stdin",
     "output_type": "stream",
     "text": [
      "Once deleted, variables cannot be recovered. Proceed (y/[n])?  y\n"
     ]
    }
   ],
   "source": [
    "%reset\n",
    "import xarray as xr\n",
    "import numpy as np\n",
    "import netCDF4 as nc\n",
    "import glob\n",
    "import re\n",
    "import matplotlib.pyplot as plt\n",
    "import matplotlib\n",
    "import warnings\n",
    "from matplotlib import *\n",
    "from netCDF4 import Dataset\n",
    "from scipy import stats\n",
    "from matplotlib.colors import LinearSegmentedColormap\n",
    "from pylr2 import regress2\n",
    "import itertools\n",
    "import statsmodels.api as sm\n",
    "import time\n",
    "from operator import itemgetter\n",
    "import csv\n",
    "warnings.filterwarnings(\"ignore\")"
   ]
  },
  {
   "cell_type": "code",
   "execution_count": 3,
   "metadata": {},
   "outputs": [],
   "source": [
    "sys.path.append('.')\n",
    "from major_axis_regression import regress2\n",
    "from parula import parula"
   ]
  },
  {
   "cell_type": "code",
   "execution_count": 4,
   "metadata": {},
   "outputs": [],
   "source": [
    "parula_map = parula()"
   ]
  },
  {
   "cell_type": "markdown",
   "metadata": {},
   "source": [
    "***\n",
    "### *Import Data*\n"
   ]
  },
  {
   "cell_type": "code",
   "execution_count": 8,
   "metadata": {},
   "outputs": [],
   "source": [
    "BBCael = np.genfromtxt(open(\"../data/CAELsedimentObsMappedToModelGrid.csv\"), delimiter=\",\")"
   ]
  },
  {
   "cell_type": "code",
   "execution_count": 9,
   "metadata": {},
   "outputs": [
    {
     "data": {
      "text/plain": [
       "(7160, 12)"
      ]
     },
     "execution_count": 9,
     "metadata": {},
     "output_type": "execute_result"
    }
   ],
   "source": [
    "BBCael.shape"
   ]
  },
  {
   "cell_type": "code",
   "execution_count": 10,
   "metadata": {},
   "outputs": [],
   "source": [
    "bb_month = ((BBCael[:,2].astype(int))-1).astype(list)\n",
    "bb_lat = BBCael[:,9]\n",
    "bb_lon = BBCael[:,10]\n",
    "bb_z = BBCael[:,11]"
   ]
  },
  {
   "cell_type": "code",
   "execution_count": 11,
   "metadata": {},
   "outputs": [
    {
     "data": {
      "text/plain": [
       "0"
      ]
     },
     "execution_count": 11,
     "metadata": {},
     "output_type": "execute_result"
    }
   ],
   "source": [
    "np.min(bb_month[1:7160])"
   ]
  },
  {
   "cell_type": "code",
   "execution_count": 12,
   "metadata": {},
   "outputs": [],
   "source": [
    "ds_diad = xr.open_mfdataset('/gpfs/home/vsz14eru/scratch/models/ModelRuns/TOM12_JG_OCCA/ORCA2_1m_20000101_20001231_diad_T.nc')"
   ]
  },
  {
   "cell_type": "code",
   "execution_count": 13,
   "metadata": {},
   "outputs": [],
   "source": [
    "EXP_xr = (ds_diad['EXP']*12*1e3*86400)\n",
    "ExpCO3_xr = (ds_diad['ExpCO3']*12*1e3*86400)\n",
    "sinksil_xr = (ds_diad['sinksil']*28*1e3*86400)\n",
    "\n",
    "EXP = EXP_xr.values\n",
    "ExpCO3 = ExpCO3_xr.values\n",
    "sinksil = sinksil_xr.values"
   ]
  },
  {
   "cell_type": "code",
   "execution_count": 14,
   "metadata": {},
   "outputs": [
    {
     "data": {
      "text/plain": [
       "(12, 31, 149, 182)"
      ]
     },
     "execution_count": 14,
     "metadata": {},
     "output_type": "execute_result"
    }
   ],
   "source": [
    "EXP.shape"
   ]
  },
  {
   "cell_type": "code",
   "execution_count": 15,
   "metadata": {},
   "outputs": [
    {
     "name": "stdout",
     "output_type": "stream",
     "text": [
      "146.0\n",
      "177.0\n"
     ]
    }
   ],
   "source": [
    "print(np.max(bb_lat[1:]))\n",
    "print(np.max(bb_lon[1:]))\n"
   ]
  },
  {
   "cell_type": "code",
   "execution_count": 16,
   "metadata": {},
   "outputs": [
    {
     "name": "stdout",
     "output_type": "stream",
     "text": [
      "[6 7 8 8 9 9 10 11 11]\n",
      "[26. 26. 26. 26. 26. 26. 26. 26. 26.]\n",
      "[51. 51. 51. 51. 51. 51. 51. 51. 51.]\n",
      "[116. 116. 116. 116. 116. 116. 116. 116. 116.]\n"
     ]
    }
   ],
   "source": [
    "print(bb_month[1:10])\n",
    "print(bb_z[1:10])\n",
    "print(bb_lon[1:10]) \n",
    "print(bb_lat[1:10])"
   ]
  },
  {
   "cell_type": "code",
   "execution_count": 17,
   "metadata": {},
   "outputs": [],
   "source": [
    "depths = ((4.999938, 15.00029, 25.00176, 35.00541, 45.01332, 55.0295, \n",
    "               65.06181, 75.12551, 85.25037, 95.49429, 105.9699, 116.8962, 128.6979, \n",
    "               142.1953, 158.9606, 181.9628, 216.6479, 272.4767, 364.303, 511.5348, \n",
    "               732.2009, 1033.217, 1405.698, 1830.885, 2289.768, 2768.242, 3257.479, \n",
    "               3752.442, 4250.401, 4749.913, 5250.227))\n"
   ]
  },
  {
   "cell_type": "code",
   "execution_count": 18,
   "metadata": {},
   "outputs": [],
   "source": [
    "from operator import itemgetter\n",
    "new_depths_SO = np. asarray((itemgetter(*bb_z[1:].astype(int))(depths)))\n"
   ]
  },
  {
   "cell_type": "code",
   "execution_count": 19,
   "metadata": {},
   "outputs": [
    {
     "data": {
      "text/plain": [
       "array([3257, 3257, 3257, ..., 1405,  158, 1405])"
      ]
     },
     "execution_count": 19,
     "metadata": {},
     "output_type": "execute_result"
    }
   ],
   "source": [
    "new_depths_SO.astype(int)"
   ]
  },
  {
   "cell_type": "code",
   "execution_count": 20,
   "metadata": {},
   "outputs": [
    {
     "name": "stdout",
     "output_type": "stream",
     "text": [
      "9.227638668380678\n"
     ]
    }
   ],
   "source": [
    "coords = (6,26,116,51)\n",
    "x = EXP[coords]\n",
    "print(x)"
   ]
  },
  {
   "cell_type": "code",
   "execution_count": 21,
   "metadata": {},
   "outputs": [
    {
     "data": {
      "text/plain": [
       "177.0"
      ]
     },
     "execution_count": 21,
     "metadata": {},
     "output_type": "execute_result"
    }
   ],
   "source": [
    "np.nanmax(bb_lon)"
   ]
  },
  {
   "cell_type": "code",
   "execution_count": 22,
   "metadata": {},
   "outputs": [],
   "source": [
    "coords = np.stack((bb_month[1:7160], bb_z[1:7160], bb_lat[1:7160], bb_lon[1:7160]), axis=0).astype(int)"
   ]
  },
  {
   "cell_type": "code",
   "execution_count": 23,
   "metadata": {},
   "outputs": [
    {
     "data": {
      "text/plain": [
       "array([  7,  26, 116,  51])"
      ]
     },
     "execution_count": 23,
     "metadata": {},
     "output_type": "execute_result"
    }
   ],
   "source": [
    "coords[:,1]"
   ]
  },
  {
   "cell_type": "code",
   "execution_count": 24,
   "metadata": {},
   "outputs": [
    {
     "name": "stdout",
     "output_type": "stream",
     "text": [
      "5.795737775042653\n"
     ]
    }
   ],
   "source": [
    "print(EXP[coords[0,50], coords[1,50], coords[2,50], coords[3,50]])"
   ]
  },
  {
   "cell_type": "code",
   "execution_count": 25,
   "metadata": {},
   "outputs": [],
   "source": [
    "EXP = np.ones((7159))*np.nan\n",
    "for i in np.arange(0,7159,1):\n",
    "    EXP[i] = EXP_xr[coords[0,i], coords[1,i], coords[2,i], coords[3,i]]\n",
    "    "
   ]
  },
  {
   "cell_type": "code",
   "execution_count": 26,
   "metadata": {},
   "outputs": [
    {
     "name": "stdout",
     "output_type": "stream",
     "text": [
      "[ 9.22763867  6.6135674   6.35536434 ...  0.76297764 58.53304099\n",
      " 31.41787928]\n"
     ]
    }
   ],
   "source": [
    "print(EXP)"
   ]
  },
  {
   "cell_type": "code",
   "execution_count": 27,
   "metadata": {},
   "outputs": [],
   "source": [
    "EXPCO3 = np.ones((7159))*np.nan\n",
    "for i in np.arange(0,7159,1):\n",
    "    EXPCO3[i] = ExpCO3_xr[coords[0,i], coords[1,i], coords[2,i], coords[3,i]]"
   ]
  },
  {
   "cell_type": "code",
   "execution_count": 28,
   "metadata": {},
   "outputs": [],
   "source": [
    "sinksil = np.ones((7159))*np.nan\n",
    "for i in np.arange(0,7159,1):\n",
    "    sinksil[i] = sinksil_xr[coords[0,i], coords[1,i], coords[2,i], coords[3,i]]"
   ]
  },
  {
   "cell_type": "code",
   "execution_count": 29,
   "metadata": {},
   "outputs": [],
   "source": [
    "values = np.stack((coords[0,:], coords[1,:], coords[2,:], coords[3,:], EXP, EXPCO3, sinksil, new_depths_SO),axis = 0)"
   ]
  },
  {
   "cell_type": "code",
   "execution_count": 30,
   "metadata": {},
   "outputs": [
    {
     "data": {
      "text/plain": [
       "array([   8.        ,   27.        ,   76.        ,  135.        ,\n",
       "          6.2935851 ,    4.45429307,    4.00798753, 3752.442     ])"
      ]
     },
     "execution_count": 30,
     "metadata": {},
     "output_type": "execute_result"
    }
   ],
   "source": [
    "values[:,6000]"
   ]
  },
  {
   "cell_type": "code",
   "execution_count": 31,
   "metadata": {},
   "outputs": [],
   "source": [
    "    depths = ((4.999938, 15.00029, 25.00176, 35.00541, 45.01332, 55.0295, \n",
    "               65.06181, 75.12551, 85.25037, 95.49429, 105.9699, 116.8962, 128.6979, \n",
    "               142.1953, 158.9606, 181.9628, 216.6479, 272.4767, 364.303, 511.5348, \n",
    "               732.2009, 1033.217, 1405.698, 1830.885, 2289.768, 2768.242, 3257.479, \n",
    "               3752.442, 4250.401, 4749.913, 5250.227))\n"
   ]
  },
  {
   "cell_type": "code",
   "execution_count": 32,
   "metadata": {},
   "outputs": [],
   "source": [
    "    from operator import itemgetter\n",
    "    new_depths_SO = np. asarray((itemgetter(*bb_z[1:].astype(int))(depths)))\n"
   ]
  },
  {
   "cell_type": "code",
   "execution_count": 33,
   "metadata": {},
   "outputs": [
    {
     "data": {
      "text/plain": [
       "array([3257, 3257, 3257, ..., 1405,  158, 1405])"
      ]
     },
     "execution_count": 33,
     "metadata": {},
     "output_type": "execute_result"
    }
   ],
   "source": [
    "new_depths_SO.astype(int)"
   ]
  },
  {
   "cell_type": "code",
   "execution_count": 34,
   "metadata": {},
   "outputs": [
    {
     "data": {
      "text/plain": [
       "(8, 7159)"
      ]
     },
     "execution_count": 34,
     "metadata": {},
     "output_type": "execute_result"
    }
   ],
   "source": [
    "values.shape"
   ]
  },
  {
   "cell_type": "code",
   "execution_count": 35,
   "metadata": {},
   "outputs": [],
   "source": [
    "np.save('../data/OCCA_masked2obs/BB_LOC_OCCA_JG.npy', values)"
   ]
  },
  {
   "cell_type": "markdown",
   "metadata": {},
   "source": [
    "### Southern Ocean "
   ]
  },
  {
   "cell_type": "code",
   "execution_count": 36,
   "metadata": {},
   "outputs": [],
   "source": [
    "SO_OCCA1 = np.ones((8,7159))*np.nan"
   ]
  },
  {
   "cell_type": "code",
   "execution_count": 37,
   "metadata": {},
   "outputs": [],
   "source": [
    "for i in np.arange(0,8,1):\n",
    "    for j in np.arange(0,7159,1):\n",
    "        if values[2,j] < 50:\n",
    "            SO_OCCA1[i,j] = values[i,j]"
   ]
  },
  {
   "cell_type": "code",
   "execution_count": 38,
   "metadata": {},
   "outputs": [
    {
     "data": {
      "text/plain": [
       "array([108., 108., 108., 108., 108., 112., 112., 112., 112., 112., 112.,\n",
       "       112., 112., 112., 112., 112., 112., 112., 112., 112., 112., 112.,\n",
       "       112., 112., 112., 112., 114., 114., 114., 114., 114., 114., 114.,\n",
       "       114., 114., 114., 114., 114., 114., 114., 114., 114., 114., 114.,\n",
       "       114., 114., 114., 114., 114., 114., 114., 114., 114., 114., 114.,\n",
       "       114., 114., 114., 114., 114., 114., 114., 114., 114., 114., 114.,\n",
       "       114., 114.,  34.,  34.,  34.,  34.,  34.,  34.,  34.,  34.,  34.,\n",
       "        34.,  34.,  34.,  34.,  34.,  34.,  34.,  34.,  34.,  34.,  34.,\n",
       "        34.,  34.,  30.,  30.,  30.,  30.,  30.,  30.,  30.,  30.,  30.,\n",
       "        30.,  30.,  30.,  30.,  30.,  30.,  30.,  30.,  30.,  30.,  30.,\n",
       "        30.,  30.,  30.,  30.,  30.,  30.,  30.,  30.,  30.,  30.,  30.,\n",
       "        30.,  30.,  30.,  30.,  30.,  30.,  27.,  27.,  27.,  27.,  27.,\n",
       "        27.,  27.,  27.,  27.,  27.,  27.,  27.,  27.,  27.,  27.,  27.,\n",
       "        27.,  27.,  27.,  27.,  27.,  24.,  24.,  24.,  24.,  24.,  24.,\n",
       "        24.,  24.,  24.,  24.,  24.,  24.,  24.,  24.,  24.,  24.,  24.,\n",
       "        24.,  24.,  24.,  24.,  24.,  24.,  24.,  24.,  24.,  24.,  24.,\n",
       "        24.,  24.,  24.,   4.,   4.,   4.,   4.,   4.,   4.,   4.,   4.,\n",
       "         4.,   4.,   4.,   4.,   4.,   4.,   4.,   4.,   4.,   4.,   4.,\n",
       "         4.,   4.])"
      ]
     },
     "execution_count": 38,
     "metadata": {},
     "output_type": "execute_result"
    }
   ],
   "source": [
    "values[2,4000:4200]"
   ]
  },
  {
   "cell_type": "code",
   "execution_count": 39,
   "metadata": {},
   "outputs": [
    {
     "data": {
      "text/plain": [
       "array([1.00000000e+01, 1.60000000e+01, 4.00000000e+00, 5.20000000e+01,\n",
       "       9.16043817e-01, 6.29338105e-04, 2.36521113e-01, 2.16647900e+02])"
      ]
     },
     "execution_count": 39,
     "metadata": {},
     "output_type": "execute_result"
    }
   ],
   "source": [
    "SO_OCCA1[:,4203]"
   ]
  },
  {
   "cell_type": "code",
   "execution_count": 40,
   "metadata": {},
   "outputs": [],
   "source": [
    "SO_OCCA = SO_OCCA1[:, ~np.isnan(SO_OCCA1).any(axis=0)]"
   ]
  },
  {
   "cell_type": "code",
   "execution_count": 41,
   "metadata": {},
   "outputs": [
    {
     "name": "stdout",
     "output_type": "stream",
     "text": [
      "(8, 768)\n"
     ]
    }
   ],
   "source": [
    "print(SO_OCCA.shape)"
   ]
  },
  {
   "cell_type": "code",
   "execution_count": 42,
   "metadata": {},
   "outputs": [],
   "source": [
    "np.save('../data/OCCA_masked2obs/SO_BB_OCCA.npy', SO_OCCA)"
   ]
  },
  {
   "cell_type": "markdown",
   "metadata": {},
   "source": [
    "### North Pacific"
   ]
  },
  {
   "cell_type": "code",
   "execution_count": 43,
   "metadata": {},
   "outputs": [],
   "source": [
    "NP_OCCA1 = np.ones((8,7159))*np.nan"
   ]
  },
  {
   "cell_type": "code",
   "execution_count": 44,
   "metadata": {},
   "outputs": [],
   "source": [
    "for i in np.arange(0,8,1):\n",
    "    for j in np.arange(0,7159,1):\n",
    "        if values[2,j] > 100 and (0 < values[3,j] < 80):\n",
    "            NP_OCCA1[i,j] = values[i,j]"
   ]
  },
  {
   "cell_type": "code",
   "execution_count": 45,
   "metadata": {},
   "outputs": [
    {
     "data": {
      "text/plain": [
       "array([108., 108., 108., 108., 108., 112., 112., 112., 112., 112., 112.,\n",
       "       112., 112., 112., 112., 112., 112., 112., 112., 112., 112., 112.,\n",
       "       112., 112., 112., 112., 114., 114., 114., 114., 114., 114., 114.,\n",
       "       114., 114., 114., 114., 114., 114., 114., 114., 114., 114., 114.,\n",
       "       114., 114., 114., 114., 114., 114., 114., 114., 114., 114., 114.,\n",
       "       114., 114., 114., 114., 114., 114., 114., 114., 114., 114., 114.,\n",
       "       114., 114.,  34.,  34.,  34.,  34.,  34.,  34.,  34.,  34.,  34.,\n",
       "        34.,  34.,  34.,  34.,  34.,  34.,  34.,  34.,  34.,  34.,  34.,\n",
       "        34.,  34.,  30.,  30.,  30.,  30.,  30.,  30.,  30.,  30.,  30.,\n",
       "        30.,  30.,  30.,  30.,  30.,  30.,  30.,  30.,  30.,  30.,  30.,\n",
       "        30.,  30.,  30.,  30.,  30.,  30.,  30.,  30.,  30.,  30.,  30.,\n",
       "        30.,  30.,  30.,  30.,  30.,  30.,  27.,  27.,  27.,  27.,  27.,\n",
       "        27.,  27.,  27.,  27.,  27.,  27.,  27.,  27.,  27.,  27.,  27.,\n",
       "        27.,  27.,  27.,  27.,  27.,  24.,  24.,  24.,  24.,  24.,  24.,\n",
       "        24.,  24.,  24.,  24.,  24.,  24.,  24.,  24.,  24.,  24.,  24.,\n",
       "        24.,  24.,  24.,  24.,  24.,  24.,  24.,  24.,  24.,  24.,  24.,\n",
       "        24.,  24.,  24.,   4.,   4.,   4.,   4.,   4.,   4.,   4.,   4.,\n",
       "         4.,   4.,   4.,   4.,   4.,   4.,   4.,   4.,   4.,   4.,   4.,\n",
       "         4.,   4.])"
      ]
     },
     "execution_count": 45,
     "metadata": {},
     "output_type": "execute_result"
    }
   ],
   "source": [
    "values[2,4000:4200]"
   ]
  },
  {
   "cell_type": "code",
   "execution_count": 46,
   "metadata": {},
   "outputs": [
    {
     "data": {
      "text/plain": [
       "array([nan, nan, nan, nan, nan, nan, nan, nan])"
      ]
     },
     "execution_count": 46,
     "metadata": {},
     "output_type": "execute_result"
    }
   ],
   "source": [
    "NP_OCCA1[:,4200]"
   ]
  },
  {
   "cell_type": "code",
   "execution_count": 47,
   "metadata": {},
   "outputs": [],
   "source": [
    "NP_OCCA = NP_OCCA1[:, ~np.isnan(NP_OCCA1).any(axis=0)]"
   ]
  },
  {
   "cell_type": "code",
   "execution_count": 48,
   "metadata": {},
   "outputs": [
    {
     "name": "stdout",
     "output_type": "stream",
     "text": [
      "(8, 1919)\n"
     ]
    }
   ],
   "source": [
    "print(NP_OCCA.shape)"
   ]
  },
  {
   "cell_type": "code",
   "execution_count": 49,
   "metadata": {},
   "outputs": [],
   "source": [
    "np.save('../data/OCCA_masked2obs/NP_BB_OCCA.npy', NP_OCCA)"
   ]
  },
  {
   "cell_type": "markdown",
   "metadata": {},
   "source": [
    "### North Atlantic"
   ]
  },
  {
   "cell_type": "code",
   "execution_count": 50,
   "metadata": {},
   "outputs": [],
   "source": [
    "NA_OCCA1 = np.ones((8,7159))*np.nan"
   ]
  },
  {
   "cell_type": "code",
   "execution_count": 51,
   "metadata": {},
   "outputs": [],
   "source": [
    "for i in np.arange(0,8,1):\n",
    "    for j in np.arange(0,7159,1):\n",
    "        if values[2,j] > 99 and (100 < values[3,j] < 160):\n",
    "            NA_OCCA1[i,j] = values[i,j]"
   ]
  },
  {
   "cell_type": "code",
   "execution_count": 52,
   "metadata": {},
   "outputs": [
    {
     "data": {
      "text/plain": [
       "array([108., 108., 108., 108., 108., 112., 112., 112., 112., 112., 112.,\n",
       "       112., 112., 112., 112., 112., 112., 112., 112., 112., 112., 112.,\n",
       "       112., 112., 112., 112., 114., 114., 114., 114., 114., 114., 114.,\n",
       "       114., 114., 114., 114., 114., 114., 114., 114., 114., 114., 114.,\n",
       "       114., 114., 114., 114., 114., 114., 114., 114., 114., 114., 114.,\n",
       "       114., 114., 114., 114., 114., 114., 114., 114., 114., 114., 114.,\n",
       "       114., 114.,  34.,  34.,  34.,  34.,  34.,  34.,  34.,  34.,  34.,\n",
       "        34.,  34.,  34.,  34.,  34.,  34.,  34.,  34.,  34.,  34.,  34.,\n",
       "        34.,  34.,  30.,  30.,  30.,  30.,  30.,  30.,  30.,  30.,  30.,\n",
       "        30.,  30.,  30.,  30.,  30.,  30.,  30.,  30.,  30.,  30.,  30.,\n",
       "        30.,  30.,  30.,  30.,  30.,  30.,  30.,  30.,  30.,  30.,  30.,\n",
       "        30.,  30.,  30.,  30.,  30.,  30.,  27.,  27.,  27.,  27.,  27.,\n",
       "        27.,  27.,  27.,  27.,  27.,  27.,  27.,  27.,  27.,  27.,  27.,\n",
       "        27.,  27.,  27.,  27.,  27.,  24.,  24.,  24.,  24.,  24.,  24.,\n",
       "        24.,  24.,  24.,  24.,  24.,  24.,  24.,  24.,  24.,  24.,  24.,\n",
       "        24.,  24.,  24.,  24.,  24.,  24.,  24.,  24.,  24.,  24.,  24.,\n",
       "        24.,  24.,  24.,   4.,   4.,   4.,   4.,   4.,   4.,   4.,   4.,\n",
       "         4.,   4.,   4.,   4.,   4.,   4.,   4.,   4.,   4.,   4.,   4.,\n",
       "         4.,   4.])"
      ]
     },
     "execution_count": 52,
     "metadata": {},
     "output_type": "execute_result"
    }
   ],
   "source": [
    "values[2,4000:4200]"
   ]
  },
  {
   "cell_type": "code",
   "execution_count": 53,
   "metadata": {},
   "outputs": [
    {
     "data": {
      "text/plain": [
       "array([nan, nan, nan, nan, nan, nan, nan, nan])"
      ]
     },
     "execution_count": 53,
     "metadata": {},
     "output_type": "execute_result"
    }
   ],
   "source": [
    "NA_OCCA1[:,4200]"
   ]
  },
  {
   "cell_type": "code",
   "execution_count": 54,
   "metadata": {},
   "outputs": [],
   "source": [
    "NA_OCCA = NA_OCCA1[:, ~np.isnan(NA_OCCA1).any(axis=0)]"
   ]
  },
  {
   "cell_type": "code",
   "execution_count": 55,
   "metadata": {},
   "outputs": [
    {
     "name": "stdout",
     "output_type": "stream",
     "text": [
      "(8, 1106)\n"
     ]
    }
   ],
   "source": [
    "print(NA_OCCA.shape)"
   ]
  },
  {
   "cell_type": "code",
   "execution_count": 56,
   "metadata": {},
   "outputs": [],
   "source": [
    "np.save('../data/OCCA_masked2obs/NA_BB_OCCA.npy', NA_OCCA)"
   ]
  },
  {
   "cell_type": "markdown",
   "metadata": {},
   "source": [
    "### Tropical Atlantic"
   ]
  },
  {
   "cell_type": "code",
   "execution_count": 57,
   "metadata": {},
   "outputs": [],
   "source": [
    "TA_OCCA1 = np.ones((8,7159))*np.nan"
   ]
  },
  {
   "cell_type": "code",
   "execution_count": 58,
   "metadata": {},
   "outputs": [],
   "source": [
    "for i in np.arange(0,8,1):\n",
    "    for j in np.arange(0,7159,1):\n",
    "        if (49 < values[2,j] < 101) and (100 < values[3,j] < 180):\n",
    "            TA_OCCA1[i,j] = values[i,j]"
   ]
  },
  {
   "cell_type": "code",
   "execution_count": 59,
   "metadata": {},
   "outputs": [
    {
     "data": {
      "text/plain": [
       "array([108., 108., 108., 108., 108., 112., 112., 112., 112., 112., 112.,\n",
       "       112., 112., 112., 112., 112., 112., 112., 112., 112., 112., 112.,\n",
       "       112., 112., 112., 112., 114., 114., 114., 114., 114., 114., 114.,\n",
       "       114., 114., 114., 114., 114., 114., 114., 114., 114., 114., 114.,\n",
       "       114., 114., 114., 114., 114., 114., 114., 114., 114., 114., 114.,\n",
       "       114., 114., 114., 114., 114., 114., 114., 114., 114., 114., 114.,\n",
       "       114., 114.,  34.,  34.,  34.,  34.,  34.,  34.,  34.,  34.,  34.,\n",
       "        34.,  34.,  34.,  34.,  34.,  34.,  34.,  34.,  34.,  34.,  34.,\n",
       "        34.,  34.,  30.,  30.,  30.,  30.,  30.,  30.,  30.,  30.,  30.,\n",
       "        30.,  30.,  30.,  30.,  30.,  30.,  30.,  30.,  30.,  30.,  30.,\n",
       "        30.,  30.,  30.,  30.,  30.,  30.,  30.,  30.,  30.,  30.,  30.,\n",
       "        30.,  30.,  30.,  30.,  30.,  30.,  27.,  27.,  27.,  27.,  27.,\n",
       "        27.,  27.,  27.,  27.,  27.,  27.,  27.,  27.,  27.,  27.,  27.,\n",
       "        27.,  27.,  27.,  27.,  27.,  24.,  24.,  24.,  24.,  24.,  24.,\n",
       "        24.,  24.,  24.,  24.,  24.,  24.,  24.,  24.,  24.,  24.,  24.,\n",
       "        24.,  24.,  24.,  24.,  24.,  24.,  24.,  24.,  24.,  24.,  24.,\n",
       "        24.,  24.,  24.,   4.,   4.,   4.,   4.,   4.,   4.,   4.,   4.,\n",
       "         4.,   4.,   4.,   4.,   4.,   4.,   4.,   4.,   4.,   4.,   4.,\n",
       "         4.,   4.])"
      ]
     },
     "execution_count": 59,
     "metadata": {},
     "output_type": "execute_result"
    }
   ],
   "source": [
    "values[2,4000:4200]"
   ]
  },
  {
   "cell_type": "code",
   "execution_count": 60,
   "metadata": {},
   "outputs": [
    {
     "data": {
      "text/plain": [
       "array([nan, nan, nan, nan, nan, nan, nan, nan])"
      ]
     },
     "execution_count": 60,
     "metadata": {},
     "output_type": "execute_result"
    }
   ],
   "source": [
    "TA_OCCA1[:,4200]"
   ]
  },
  {
   "cell_type": "code",
   "execution_count": 61,
   "metadata": {},
   "outputs": [],
   "source": [
    "TA_OCCA = TA_OCCA1[:, ~np.isnan(TA_OCCA1).any(axis=0)]"
   ]
  },
  {
   "cell_type": "code",
   "execution_count": 62,
   "metadata": {},
   "outputs": [
    {
     "name": "stdout",
     "output_type": "stream",
     "text": [
      "(8, 1659)\n"
     ]
    }
   ],
   "source": [
    "print(TA_OCCA.shape)"
   ]
  },
  {
   "cell_type": "code",
   "execution_count": 63,
   "metadata": {},
   "outputs": [],
   "source": [
    "np.save('../data/OCCA_masked2obs/TA_BB_OCCA.npy', TA_OCCA)"
   ]
  },
  {
   "cell_type": "markdown",
   "metadata": {},
   "source": [
    "### Tropical Pacific"
   ]
  },
  {
   "cell_type": "code",
   "execution_count": 64,
   "metadata": {},
   "outputs": [],
   "source": [
    "TP_OCCA1 = np.ones((8,7159))*np.nan"
   ]
  },
  {
   "cell_type": "code",
   "execution_count": 65,
   "metadata": {},
   "outputs": [],
   "source": [
    "for i in np.arange(0,8,1):\n",
    "    for j in np.arange(0,7159,1):\n",
    "        if 49 < values[2,j] < 101 and (23 < values[3,j] < 86):\n",
    "            TP_OCCA1[i,j] = values[i,j]"
   ]
  },
  {
   "cell_type": "code",
   "execution_count": 66,
   "metadata": {},
   "outputs": [
    {
     "data": {
      "text/plain": [
       "array([108., 108., 108., 108., 108., 112., 112., 112., 112., 112., 112.,\n",
       "       112., 112., 112., 112., 112., 112., 112., 112., 112., 112., 112.,\n",
       "       112., 112., 112., 112., 114., 114., 114., 114., 114., 114., 114.,\n",
       "       114., 114., 114., 114., 114., 114., 114., 114., 114., 114., 114.,\n",
       "       114., 114., 114., 114., 114., 114., 114., 114., 114., 114., 114.,\n",
       "       114., 114., 114., 114., 114., 114., 114., 114., 114., 114., 114.,\n",
       "       114., 114.,  34.,  34.,  34.,  34.,  34.,  34.,  34.,  34.,  34.,\n",
       "        34.,  34.,  34.,  34.,  34.,  34.,  34.,  34.,  34.,  34.,  34.,\n",
       "        34.,  34.,  30.,  30.,  30.,  30.,  30.,  30.,  30.,  30.,  30.,\n",
       "        30.,  30.,  30.,  30.,  30.,  30.,  30.,  30.,  30.,  30.,  30.,\n",
       "        30.,  30.,  30.,  30.,  30.,  30.,  30.,  30.,  30.,  30.,  30.,\n",
       "        30.,  30.,  30.,  30.,  30.,  30.,  27.,  27.,  27.,  27.,  27.,\n",
       "        27.,  27.,  27.,  27.,  27.,  27.,  27.,  27.,  27.,  27.,  27.,\n",
       "        27.,  27.,  27.,  27.,  27.,  24.,  24.,  24.,  24.,  24.,  24.,\n",
       "        24.,  24.,  24.,  24.,  24.,  24.,  24.,  24.,  24.,  24.,  24.,\n",
       "        24.,  24.,  24.,  24.,  24.,  24.,  24.,  24.,  24.,  24.,  24.,\n",
       "        24.,  24.,  24.,   4.,   4.,   4.,   4.,   4.,   4.,   4.,   4.,\n",
       "         4.,   4.,   4.,   4.,   4.,   4.,   4.,   4.,   4.,   4.,   4.,\n",
       "         4.,   4.])"
      ]
     },
     "execution_count": 66,
     "metadata": {},
     "output_type": "execute_result"
    }
   ],
   "source": [
    "values[2,4000:4200]"
   ]
  },
  {
   "cell_type": "code",
   "execution_count": 67,
   "metadata": {},
   "outputs": [
    {
     "data": {
      "text/plain": [
       "array([nan, nan, nan, nan, nan, nan, nan, nan])"
      ]
     },
     "execution_count": 67,
     "metadata": {},
     "output_type": "execute_result"
    }
   ],
   "source": [
    "TP_OCCA1[:,4200]"
   ]
  },
  {
   "cell_type": "code",
   "execution_count": 68,
   "metadata": {},
   "outputs": [],
   "source": [
    "TP_OCCA = TP_OCCA1[:, ~np.isnan(TP_OCCA1).any(axis=0)]"
   ]
  },
  {
   "cell_type": "code",
   "execution_count": 69,
   "metadata": {},
   "outputs": [
    {
     "name": "stdout",
     "output_type": "stream",
     "text": [
      "(8, 1707)\n"
     ]
    }
   ],
   "source": [
    "print(TP_OCCA.shape)"
   ]
  },
  {
   "cell_type": "code",
   "execution_count": 70,
   "metadata": {},
   "outputs": [],
   "source": [
    "np.save('../data/OCCA_masked2obs/TP_BB_OCCA.npy', TP_OCCA)"
   ]
  },
  {
   "cell_type": "code",
   "execution_count": null,
   "metadata": {},
   "outputs": [],
   "source": []
  }
 ],
 "metadata": {
  "kernelspec": {
   "display_name": "Python 3 (ipykernel)",
   "language": "python",
   "name": "python3"
  },
  "language_info": {
   "codemirror_mode": {
    "name": "ipython",
    "version": 3
   },
   "file_extension": ".py",
   "mimetype": "text/x-python",
   "name": "python",
   "nbconvert_exporter": "python",
   "pygments_lexer": "ipython3",
   "version": "3.7.11"
  }
 },
 "nbformat": 4,
 "nbformat_minor": 4
}
