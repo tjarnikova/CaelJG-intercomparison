{
 "cells": [
  {
   "cell_type": "markdown",
   "metadata": {},
   "source": [
    "### *Import Packages and Modules*\n",
    "***"
   ]
  },
  {
   "cell_type": "code",
   "execution_count": 1,
   "metadata": {},
   "outputs": [],
   "source": [
    "import xarray as xr\n",
    "import numpy as np\n",
    "import netCDF4 as nc\n",
    "import glob\n",
    "import re\n",
    "import matplotlib.pyplot as plt\n",
    "import matplotlib\n",
    "import warnings\n",
    "from matplotlib import *\n",
    "from netCDF4 import Dataset\n",
    "from scipy import stats\n",
    "from matplotlib.colors import LinearSegmentedColormap\n",
    "from pylr2 import regress2\n",
    "import itertools\n",
    "import statsmodels.api as sm\n",
    "import time\n",
    "from operator import itemgetter\n",
    "import csv\n",
    "import statistics\n",
    "from major_axis_regression import regress2\n",
    "from parula import parula\n",
    "# parula is a .py file that should be found in script that adds parula, the same colour scale as Cael uses to the data. "
   ]
  },
  {
   "cell_type": "code",
   "execution_count": 2,
   "metadata": {},
   "outputs": [],
   "source": [
    "parula_map = parula()"
   ]
  },
  {
   "cell_type": "markdown",
   "metadata": {},
   "source": [
    "***\n",
    "### *Import Data*\n"
   ]
  },
  {
   "cell_type": "code",
   "execution_count": 11,
   "metadata": {},
   "outputs": [],
   "source": [
    "OCCA = np.load('../../data/OCCA_masked2obs/TP_BB_OCCA.npy') # imports data created from \"OCCA_mask_to_sediment_data\""
   ]
  },
  {
   "cell_type": "code",
   "execution_count": 12,
   "metadata": {},
   "outputs": [],
   "source": [
    "# lists which indexes are which variables\n",
    "# t = 0\n",
    "# z = 7\n",
    "# lat = 2\n",
    "# lon = 3\n",
    "# Foc = 4\n",
    "# Fic = 5\n",
    "# Fsi = 6"
   ]
  },
  {
   "cell_type": "code",
   "execution_count": 13,
   "metadata": {},
   "outputs": [],
   "source": [
    "# replace zeros in the dataset with nans (where the coordinates sampled were inside the model land/bathymetry)\n",
    "OCCA2 = np.ones((8,1707))*np.nan\n",
    "for i in np.arange(0,8,1):\n",
    "    for j in np.arange(0,1707,1):\n",
    "        if OCCA[i,j] > 0:\n",
    "            OCCA2[i,j] = OCCA[i,j]"
   ]
  },
  {
   "cell_type": "code",
   "execution_count": 14,
   "metadata": {},
   "outputs": [],
   "source": [
    "OCCA3 = OCCA2[:, ~np.isnan(OCCA2).any(axis=0)] # remove nans from the dataset"
   ]
  },
  {
   "cell_type": "code",
   "execution_count": 15,
   "metadata": {},
   "outputs": [
    {
     "data": {
      "text/plain": [
       "(8, 1184)"
      ]
     },
     "execution_count": 15,
     "metadata": {},
     "output_type": "execute_result"
    }
   ],
   "source": [
    "OCCA3.shape # this is the NGD"
   ]
  },
  {
   "cell_type": "markdown",
   "metadata": {},
   "source": [
    "------\n",
    "### Define Function"
   ]
  },
  {
   "cell_type": "code",
   "execution_count": 16,
   "metadata": {},
   "outputs": [],
   "source": [
    "def JG_BBCael(data,bbeta,data_no,bbeta_pair_no):\n",
    "    import statsmodels.api as sm\n",
    "    import numpy as np \n",
    "\n",
    "    # find random coordinate points for SO \n",
    "\n",
    "    index_number = np.random.randint(0, high=n, size=data_no)        \n",
    "    \n",
    "    #print('average in mask:', np.average(new_mask))\n",
    "    # this average should be 1 == only areas with values are selected\n",
    "    #print('(should be one or else something went wrong)')\n",
    "\n",
    "    # use randomly selected coordinate points to select 10000 random values of Foc, Fic and Fsi \n",
    "    random_Foc = data[4, index_number]\n",
    "    random_Fic = data[5, index_number]\n",
    "    random_Fsi = data[6, index_number]\n",
    "    random_depth = data[7, index_number]\n",
    "    \n",
    "    # create x and y\n",
    "    y = np.log(random_Foc[:, np.newaxis]) + (bbeta[:, 0] * np.subtract(np.log(random_depth[:, np.newaxis]),np.log(1000)))\n",
    "    x = np.log((random_Fic[:, np.newaxis]) + (bbeta[:, 1] * random_Fsi[:, np.newaxis]))\n",
    "\n",
    "    # initialise variables for regression analysis\n",
    "    r_squared = np.ones((bbeta_pair_no))*np.nan\n",
    "    slope = np.ones((bbeta_pair_no))*np.nan\n",
    "    intercept = np.ones((bbeta_pair_no))*np.nan\n",
    "    \n",
    "    # run regression\n",
    "    for i in np.arange(0,bbeta_pair_no,1):\n",
    "        r_squared[i], slope[i], intercept[i] = regress2(x[:,i], y[:,i], _method_type_2=\"major axis\")\n",
    "\n",
    "    # find value of maximum r2\n",
    "    r_maximum = np.nanmax(r_squared)\n",
    "\n",
    "    # find where r2 = this maximum within the array\n",
    "    where_max = np.where(r_squared==r_maximum)\n",
    "\n",
    "    # find b, beta, slope and intercept where r2 = maximum\n",
    "    b_maxr = np.nanmean(bbeta[where_max, 0])\n",
    "    beta_maxr = np.nanmean(bbeta[where_max, 1])\n",
    "    slope_max = np.nanmean(slope[where_max])\n",
    "    intercept_max = np.nanmean(intercept[where_max])\n",
    "\n",
    "    return r_maximum, b_maxr, beta_maxr, slope_max, intercept_max\n"
   ]
  },
  {
   "cell_type": "markdown",
   "metadata": {},
   "source": [
    "------\n",
    "### Create the b and beta range"
   ]
  },
  {
   "cell_type": "code",
   "execution_count": 17,
   "metadata": {},
   "outputs": [],
   "source": [
    "# then we create b and beta range to search for in each sample taken. \n",
    "# these are estimated from a small b and beta sample. \n",
    "# later we ensure that the data isn't skewed to one side of the distribution searched within b and beta. "
   ]
  },
  {
   "cell_type": "code",
   "execution_count": 18,
   "metadata": {},
   "outputs": [
    {
     "name": "stdout",
     "output_type": "stream",
     "text": [
      "2440\n"
     ]
    }
   ],
   "source": [
    "# define b and beta\n",
    "b = numpy.arange(0.5, 0.7, 0.005)\n",
    "beta = numpy.arange(0.2,  0.8, 0.01)\n",
    "\n",
    "# define number of searches within b and beta (for histograms later)\n",
    "b_bins = 1.5/0.02\n",
    "beta_bins = 2/0.02\n",
    "\n",
    "# this calculates the number of b/beta unique combinations\n",
    "bbeta = np.array(list(itertools.product(b, beta)))\n",
    "bbeta_pair_no = int((bbeta[:,1].shape)[0])\n",
    "print(bbeta_pair_no)"
   ]
  },
  {
   "cell_type": "markdown",
   "metadata": {},
   "source": [
    "***\n",
    "### *Run Regression*\n"
   ]
  },
  {
   "cell_type": "code",
   "execution_count": 19,
   "metadata": {},
   "outputs": [],
   "source": [
    "n = 1184 # this is the number of samples taken each time (ideally the same as the size of the dataset)\n",
    "resamples = 1000 # this is the number of bootstrap resamples"
   ]
  },
  {
   "cell_type": "code",
   "execution_count": 20,
   "metadata": {},
   "outputs": [],
   "source": [
    "#here we initiate the variables\n",
    "r_maximum = np.ones((resamples))*np.nan\n",
    "b_maxr = np.ones((resamples))*np.nan\n",
    "beta_maxr = np.ones((resamples))*np.nan\n",
    "slope_max = np.ones((resamples))*np.nan\n",
    "intercept_max = np.ones((resamples))*np.nan\n",
    "random_Fic = np.ones((resamples,n))*np.nan\n",
    "random_Foc = np.ones((resamples,n))*np.nan\n",
    "random_Fsi = np.ones((resamples,n))*np.nan\n",
    "random_depth = np.ones((resamples, n))*np.nan"
   ]
  },
  {
   "cell_type": "code",
   "execution_count": 21,
   "metadata": {},
   "outputs": [
    {
     "name": "stdout",
     "output_type": "stream",
     "text": [
      "1 :    0.6164107322692871\n",
      "100 :     60.16446590423584\n",
      "500 :     242.74407744407654\n",
      "999 :     300.7457320690155\n"
     ]
    }
   ],
   "source": [
    "# here we run through the function which finds the best fit of b and beta of the range given\n",
    "# we do this as many times as given in the resamples (usually at least as many data points)\n",
    "\n",
    "for i in np.arange(0,resamples,1):\n",
    "    w = time.time()\n",
    "    r_maximum[i], b_maxr[i], beta_maxr[i], slope_max[i], intercept_max[i] = \\\n",
    "    JG_BBCael(OCCA3,bbeta,n,bbeta_pair_no)\n",
    "    if i == 1:\n",
    "        w1 = time.time()\n",
    "        print(i, ':   ', w1-w)\n",
    "    if i == 100:\n",
    "        w2=time.time()\n",
    "        print(i, ':    ', w2-w1)\n",
    "    if i == 500:\n",
    "        w3=time.time()\n",
    "        print(i, ':    ', w3-w2)\n",
    "    if i == 999:\n",
    "        w4=time.time()\n",
    "        print(i, ':    ', w4-w3)"
   ]
  },
  {
   "cell_type": "markdown",
   "metadata": {},
   "source": [
    "-------\n",
    "# Plot Histograms\n",
    "here we're looking to make sure that the searches for b and beta don't fall at the edges of the search limits"
   ]
  },
  {
   "cell_type": "code",
   "execution_count": 22,
   "metadata": {},
   "outputs": [
    {
     "data": {
      "text/plain": [
       "(array([  0.,   0.,   0.,   0.,   0.,   0.,   0.,   0.,   0.,   0.,   0.,\n",
       "          0.,   0.,   0.,   0.,   0.,   0.,   0.,   0.,   0.,   0.,   0.,\n",
       "          0.,   0.,   0.,   0.,   0.,   0.,   1.,   1.,  23.,  47.,  83.,\n",
       "        131., 144., 163., 146., 115.,  72.,  37.,  20.,  11.,   6.,   0.,\n",
       "          0.,   0.,   0.,   0.,   0.,   0.,   0.,   0.,   0.,   0.,   0.,\n",
       "          0.,   0.,   0.,   0.,   0.,   0.,   0.,   0.,   0.,   0.,   0.,\n",
       "          0.,   0.,   0.,   0.,   0.,   0.,   0.,   0.,   0.]),\n",
       " array([0.4       , 0.40533333, 0.41066667, 0.416     , 0.42133333,\n",
       "        0.42666667, 0.432     , 0.43733333, 0.44266667, 0.448     ,\n",
       "        0.45333333, 0.45866667, 0.464     , 0.46933333, 0.47466667,\n",
       "        0.48      , 0.48533333, 0.49066667, 0.496     , 0.50133333,\n",
       "        0.50666667, 0.512     , 0.51733333, 0.52266667, 0.528     ,\n",
       "        0.53333333, 0.53866667, 0.544     , 0.54933333, 0.55466667,\n",
       "        0.56      , 0.56533333, 0.57066667, 0.576     , 0.58133333,\n",
       "        0.58666667, 0.592     , 0.59733333, 0.60266667, 0.608     ,\n",
       "        0.61333333, 0.61866667, 0.624     , 0.62933333, 0.63466667,\n",
       "        0.64      , 0.64533333, 0.65066667, 0.656     , 0.66133333,\n",
       "        0.66666667, 0.672     , 0.67733333, 0.68266667, 0.688     ,\n",
       "        0.69333333, 0.69866667, 0.704     , 0.70933333, 0.71466667,\n",
       "        0.72      , 0.72533333, 0.73066667, 0.736     , 0.74133333,\n",
       "        0.74666667, 0.752     , 0.75733333, 0.76266667, 0.768     ,\n",
       "        0.77333333, 0.77866667, 0.784     , 0.78933333, 0.79466667,\n",
       "        0.8       ]),\n",
       " <BarContainer object of 75 artists>)"
      ]
     },
     "execution_count": 22,
     "metadata": {},
     "output_type": "execute_result"
    },
    {
     "data": {
      "image/png": "[encoded data removed]",
      "text/plain": [
       "<Figure size 432x288 with 1 Axes>"
      ]
     },
     "metadata": {
      "needs_background": "light"
     },
     "output_type": "display_data"
    }
   ],
   "source": [
    "plt.hist(b_maxr, range=(0.4, 0.8), bins=int(b_bins))"
   ]
  },
  {
   "cell_type": "code",
   "execution_count": 23,
   "metadata": {},
   "outputs": [
    {
     "data": {
      "text/plain": [
       "(array([ 0.,  0.,  0.,  0.,  0.,  0.,  0.,  0.,  0.,  0.,  0.,  0.,  0.,\n",
       "         0.,  0.,  0.,  0.,  0.,  0.,  0.,  0.,  0.,  0.,  0.,  0.,  0.,\n",
       "         0.,  1.,  0.,  2.,  0.,  2.,  4.,  8., 22., 23., 36., 40., 31.,\n",
       "        64., 71., 47., 60., 65., 69., 68., 62., 59., 51.,  0., 40., 31.,\n",
       "        23., 29., 24., 18., 13.,  6.,  6.,  6.,  4.,  5.,  3.,  2.,  2.,\n",
       "         2.,  1.,  0.,  0.,  0.,  0.,  0.,  0.,  0.,  0.,  0.,  0.,  0.,\n",
       "         0.,  0.,  0.,  0.,  0.,  0.,  0.,  0.,  0.,  0.,  0.,  0.,  0.,\n",
       "         0.,  0.,  0.,  0.,  0.,  0.,  0.,  0.,  0.]),\n",
       " array([0.02  , 0.0298, 0.0396, 0.0494, 0.0592, 0.069 , 0.0788, 0.0886,\n",
       "        0.0984, 0.1082, 0.118 , 0.1278, 0.1376, 0.1474, 0.1572, 0.167 ,\n",
       "        0.1768, 0.1866, 0.1964, 0.2062, 0.216 , 0.2258, 0.2356, 0.2454,\n",
       "        0.2552, 0.265 , 0.2748, 0.2846, 0.2944, 0.3042, 0.314 , 0.3238,\n",
       "        0.3336, 0.3434, 0.3532, 0.363 , 0.3728, 0.3826, 0.3924, 0.4022,\n",
       "        0.412 , 0.4218, 0.4316, 0.4414, 0.4512, 0.461 , 0.4708, 0.4806,\n",
       "        0.4904, 0.5002, 0.51  , 0.5198, 0.5296, 0.5394, 0.5492, 0.559 ,\n",
       "        0.5688, 0.5786, 0.5884, 0.5982, 0.608 , 0.6178, 0.6276, 0.6374,\n",
       "        0.6472, 0.657 , 0.6668, 0.6766, 0.6864, 0.6962, 0.706 , 0.7158,\n",
       "        0.7256, 0.7354, 0.7452, 0.755 , 0.7648, 0.7746, 0.7844, 0.7942,\n",
       "        0.804 , 0.8138, 0.8236, 0.8334, 0.8432, 0.853 , 0.8628, 0.8726,\n",
       "        0.8824, 0.8922, 0.902 , 0.9118, 0.9216, 0.9314, 0.9412, 0.951 ,\n",
       "        0.9608, 0.9706, 0.9804, 0.9902, 1.    ]),\n",
       " <BarContainer object of 100 artists>)"
      ]
     },
     "execution_count": 23,
     "metadata": {},
     "output_type": "execute_result"
    },
    {
     "data": {
      "image/png": "[encoded data removed]",
      "text/plain": [
       "<Figure size 432x288 with 1 Axes>"
      ]
     },
     "metadata": {
      "needs_background": "light"
     },
     "output_type": "display_data"
    }
   ],
   "source": [
    "plt.hist(beta_maxr, range=(0.02, 1), bins=int(beta_bins))"
   ]
  },
  {
   "cell_type": "markdown",
   "metadata": {},
   "source": [
    "-----\n",
    "# Create median values for plotting graphs"
   ]
  },
  {
   "cell_type": "code",
   "execution_count": 24,
   "metadata": {},
   "outputs": [],
   "source": [
    "# find median values of the best fit regressions\n",
    "\n",
    "r_median = np.nanmedian(r_maximum)\n",
    "b_median = np.nanmedian(b_maxr)\n",
    "beta_median = np.nanmedian(beta_maxr)\n",
    "intercept_median = np.nanmedian(intercept_max)\n",
    "slope_median = np.nanmedian(slope_max)"
   ]
  },
  {
   "cell_type": "markdown",
   "metadata": {},
   "source": [
    "# Calculate alpha(si) and alpha(ic) values from the median beta, intercept and slope values\n",
    "where kappa = e^intercept and gamma = slope of the line\n",
    "\n",
    "y = Foc(z/1000)\n",
    "\n",
    "x = Fic * beta(Fsi))^gamma\n",
    "\n",
    "and: beta is ~ to a_si/a_ic\n",
    "\n",
    "### therefore:\n",
    "\n",
    "if: y = k * (beta * x^gamma)\n",
    "\n",
    "beta = alpha_si/alpha_ic\n",
    "\n",
    "alpha_ic = kappa^(1/gamma)\n",
    "\n",
    "alpha_si = beta * kappa^(1/gamma)\n",
    "\n",
    "k(kappa) = e^(intercept) and gamma = slope\n",
    "\n",
    "the equation becomes Foc = (alpha_ic Fic + alpha_si Fsi)^gamma (z/1000)^b. so beta = alpha_si/alpha_ic.\n",
    "\n",
    "\n"
   ]
  },
  {
   "cell_type": "code",
   "execution_count": 25,
   "metadata": {},
   "outputs": [],
   "source": [
    "kappa = np.exp(intercept_max)\n",
    "kappa_median = np.median(np.exp(intercept_max))"
   ]
  },
  {
   "cell_type": "code",
   "execution_count": 26,
   "metadata": {},
   "outputs": [],
   "source": [
    "a_ic_1 = kappa**(1/slope_median)\n",
    "a_si_1 = beta_median*kappa**(1/slope_median)"
   ]
  },
  {
   "cell_type": "code",
   "execution_count": 27,
   "metadata": {},
   "outputs": [],
   "source": [
    "a_ic = kappa_median**(1/slope_median)\n",
    "a_si = beta_median*kappa_median**(1/slope_median)"
   ]
  },
  {
   "cell_type": "code",
   "execution_count": 28,
   "metadata": {},
   "outputs": [
    {
     "name": "stdout",
     "output_type": "stream",
     "text": [
      "43.145861148975094\n",
      "19.847096128528552\n"
     ]
    }
   ],
   "source": [
    "print(a_ic)\n",
    "print(a_si)"
   ]
  },
  {
   "cell_type": "code",
   "execution_count": 29,
   "metadata": {},
   "outputs": [
    {
     "name": "stdout",
     "output_type": "stream",
     "text": [
      "r2:         0.8\n",
      "b:          0.59\n",
      "a_ic:       43.15\n",
      "a_si:       19.85\n",
      "intercept:  1.63\n",
      "kappa:      5.12\n",
      "slope:      0.43\n",
      "0.012 3.014 1.386\n"
     ]
    }
   ],
   "source": [
    "# find the standard deviation for all values\n",
    "SD_r = round(statistics.stdev(r_maximum),4)\n",
    "SD_b = round(statistics.stdev(b_maxr),3)\n",
    "SD_aic = round(statistics.stdev(a_ic_1),3)\n",
    "SD_asi = round(statistics.stdev(a_si_1),3)\n",
    "SD_int = round(statistics.stdev(intercept_max),3)\n",
    "SD_slope = round(statistics.stdev(slope_max),3)\n",
    "\n",
    "# print medians and standard deviation of b, alpha_IC and alpha_Si\n",
    "print('r2:        ', round(r_median, 2))\n",
    "print('b:         ', round(b_median, 3))\n",
    "print('a_ic:      ', round(a_ic, 2))\n",
    "print('a_si:      ', round(a_si, 2))\n",
    "print('intercept: ', round(intercept_median, 2))\n",
    "print('kappa:     ', round(kappa_median, 2))\n",
    "print('slope:     ', round(slope_median, 2))\n",
    "print(SD_b, SD_aic, SD_asi)"
   ]
  },
  {
   "cell_type": "markdown",
   "metadata": {},
   "source": [
    "-----\n",
    "### Create values for plotting graphs"
   ]
  },
  {
   "cell_type": "markdown",
   "metadata": {},
   "source": [
    "# create x, y and scale"
   ]
  },
  {
   "cell_type": "code",
   "execution_count": 33,
   "metadata": {},
   "outputs": [],
   "source": [
    "log_y = np.log(OCCA3[4,:]) + (b_median * np.subtract(np.log(OCCA3[7,:]),np.log(1000)))\n",
    "log_x = np.log((kappa_median**slope_median)*((OCCA3[5,:]) + (beta_median * OCCA3[6,:])))\n",
    "\n",
    "y = np.exp(log_y)\n",
    "x = np.exp(log_x)\n",
    "\n",
    "scale = OCCA3[5,:] / OCCA3[6,:]"
   ]
  },
  {
   "cell_type": "code",
   "execution_count": 34,
   "metadata": {},
   "outputs": [],
   "source": [
    "# create the data for plotting the line\n",
    "\n",
    "x_line = [0.00001, np.max(x)+10000]\n",
    "y_line = kappa_median*x_line**slope_median"
   ]
  },
  {
   "cell_type": "code",
   "execution_count": 38,
   "metadata": {},
   "outputs": [
    {
     "data": {
      "image/png": "[encoded data removed]",
      "text/plain": [
       "<Figure size 432x288 with 2 Axes>"
      ]
     },
     "metadata": {
      "needs_background": "light"
     },
     "output_type": "display_data"
    }
   ],
   "source": [
    "ax = plt.gca()\n",
    "plt.plot(x_line, y_line, color='black', ls='-.', lw=2)\n",
    "g = ax.scatter(x, y, c=scale, cmap=parula_map, norm=matplotlib.colors.LogNorm(vmin=0.01, vmax=100), s=40)\n",
    "ax.set_yscale('log')\n",
    "ax.set_xscale('log')\n",
    "plt.ylim(1e0, 316.227766017)\n",
    "plt.xlim(1e0, 1e3)\n",
    "\n",
    "cbar = plt.colorbar(g)\n",
    "\n",
    "plt.title(r'$Tropical \\ Pacific \\ (r^{2} = 0.8)$', size=16)\n",
    "\n",
    "plt.ylabel(r'$F_{oc}\\left ({z}  \\right )^{0.59 (\\pm 0.013)} \\ (mg \\ m^{-2} \\ d^{-1})$', size=12) \n",
    "\n",
    "plt.xlabel(r'$42.42 (\\pm 3) F_{ic} + 19.52 (\\pm 1.38) F_{si}$', size=12)\n",
    "\n",
    "cbar.set_label(r'${F_{ic}} \\ / \\ {F_{si}}$', size=14)\n",
    "\n",
    "plt.show()"
   ]
  },
  {
   "cell_type": "code",
   "execution_count": null,
   "metadata": {},
   "outputs": [],
   "source": []
  }
 ],
 "metadata": {
  "kernelspec": {
   "display_name": "Python 3",
   "language": "python",
   "name": "python3"
  },
  "language_info": {
   "codemirror_mode": {
    "name": "ipython",
    "version": 3
   },
   "file_extension": ".py",
   "mimetype": "text/x-python",
   "name": "python",
   "nbconvert_exporter": "python",
   "pygments_lexer": "ipython3",
   "version": "3.7.3"
  }
 },
 "nbformat": 4,
 "nbformat_minor": 4
}
